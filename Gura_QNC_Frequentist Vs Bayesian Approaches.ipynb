{
  "nbformat": 4,
  "nbformat_minor": 0,
  "metadata": {
    "colab": {
      "provenance": [],
      "authorship_tag": "ABX9TyPqJB78PNW4iiTUVmujyvvI",
      "include_colab_link": true
    },
    "kernelspec": {
      "name": "python3",
      "display_name": "Python 3"
    },
    "language_info": {
      "name": "python"
    }
  },
  "cells": [
    {
      "cell_type": "markdown",
      "metadata": {
        "id": "view-in-github",
        "colab_type": "text"
      },
      "source": [
        "<a href=\"https://colab.research.google.com/github/hansgura/NGG6050/blob/main/Gura_QNC_Frequentist%20Vs%20Bayesian%20Approaches.ipynb\" target=\"_parent\"><img src=\"https://colab.research.google.com/assets/colab-badge.svg\" alt=\"Open In Colab\"/></a>"
      ]
    },
    {
      "cell_type": "code",
      "execution_count": 2,
      "metadata": {
        "id": "GXDt2-WlUYYK"
      },
      "outputs": [],
      "source": [
        "import scipy.stats as st\n",
        "import numpy as np\n"
      ]
    },
    {
      "cell_type": "code",
      "source": [
        "N = 10000\n",
        "false_positive_rate = 0.05\n",
        "false_negative_rate = 0\n",
        "\n",
        "print(f'The probability of obtaining the data under the Null Hypothesis = {false_positive_rate}')\n",
        "\n",
        "is_infected = st.binom.rvs(1, 0.5, size=N)\n",
        "\n",
        "num_infected = is_infected.sum()\n",
        "\n",
        "is_positive = np.copy(is_infected)\n",
        "\n",
        "is_positive[is_infected==0] = st.binom.rvs(1, false_positive_rate, size=N-num_infected)\n",
        "\n",
        "p_is_infected_given_is_positive = (np.logical_and(is_infected==1, is_positive==1).sum())/is_positive.sum()\n",
        "print(f'Probaility infected given a positive test = {p_is_infected_given_is_positive:.4f}')\n",
        "\n",
        "infected_proportions = np.arange(0.0, 1.1, 0.1)\n",
        "for idx, val in enumerate(infected_proportions):\n",
        "\n",
        "\n",
        "   is_infected = st.binom.rvs(1, val, size=N)\n",
        "\n",
        "   num_infected = is_infected.sum()\n",
        "\n",
        "   is_positive = np.copy(is_infected)\n",
        "\n",
        "   is_positive[is_infected==0] = st.binom.rvs(1, false_positive_rate, size=N-num_infected)\n",
        "\n",
        "   p_is_infected_given_is_positive = (np.logical_and(is_infected==1, is_positive==1).sum())/is_positive.sum()\n",
        "\n",
        "   p_data_given_hypothesis = 1 - false_negative_rate\n",
        "   p_hypothesis = val\n",
        "   p_data = is_positive.sum()/is_positive.size\n",
        "   p_hypothesis_given_data = (p_data_given_hypothesis * p_hypothesis) / p_data\n",
        "\n",
        "   print(f'Infection rate={val:.1f}, proportion infected given a positive test={p_is_infected_given_is_positive:.3f}, Posterior={p_hypothesis_given_data:.3f}')\n"
      ],
      "metadata": {
        "colab": {
          "base_uri": "https://localhost:8080/"
        },
        "id": "wLCzMJSBU_RG",
        "outputId": "68518ef0-3d07-406f-b57e-be95e228ad24"
      },
      "execution_count": 3,
      "outputs": [
        {
          "output_type": "stream",
          "name": "stdout",
          "text": [
            "The probability of obtaining the data under the Null Hypothesis = 0.05\n",
            "Probaility infected given a positive test = 0.9538\n",
            "Infection rate=0.0, proportion infected given a positive test=0.000, Posterior=0.000\n",
            "Infection rate=0.1, proportion infected given a positive test=0.673, Posterior=0.680\n",
            "Infection rate=0.2, proportion infected given a positive test=0.829, Posterior=0.823\n",
            "Infection rate=0.3, proportion infected given a positive test=0.905, Posterior=0.894\n",
            "Infection rate=0.4, proportion infected given a positive test=0.932, Posterior=0.920\n",
            "Infection rate=0.5, proportion infected given a positive test=0.955, Posterior=0.941\n",
            "Infection rate=0.6, proportion infected given a positive test=0.969, Posterior=0.967\n",
            "Infection rate=0.7, proportion infected given a positive test=0.980, Posterior=0.976\n",
            "Infection rate=0.8, proportion infected given a positive test=0.988, Posterior=0.986\n",
            "Infection rate=0.9, proportion infected given a positive test=0.993, Posterior=0.989\n",
            "Infection rate=1.0, proportion infected given a positive test=1.000, Posterior=1.000\n"
          ]
        }
      ]
    },
    {
      "cell_type": "code",
      "source": [],
      "metadata": {
        "id": "6dZVbf5xU4zR"
      },
      "execution_count": null,
      "outputs": []
    }
  ]
}